{
 "cells": [
  {
   "cell_type": "code",
   "execution_count": 15,
   "id": "prospective-presence",
   "metadata": {},
   "outputs": [],
   "source": [
    "def fn_preprocess_file(file_path):\n",
    "\n",
    "    def fn_process_text(text):\n",
    "        import re\n",
    "\n",
    "        text = re.sub('[^a-zA-Z0-9\\n]', ' ', text) #--- Replace every special char with space\n",
    "        text = re.sub('\\s+', ' ', text).strip()  #----- Replace excess whitespaces\n",
    "\n",
    "        return text\n",
    "\n",
    "\n",
    "    def fn_simplify_txt(listO_sentences):\n",
    "    \n",
    "        l = []\n",
    "\n",
    "        for line in listO_sentences:\n",
    "            line = fn_process_text(line).lower() \n",
    "            if len(line) > 1:\n",
    "                l.append(line + ' ')\n",
    "\n",
    "        return l\n",
    "    \n",
    "    \n",
    "    def fn_consolidate_txt(listO_sentences):\n",
    "\n",
    "        s = ''\n",
    "        for line in listO_sentences:\n",
    "            s += line\n",
    "        return s\n",
    "    \n",
    "\n",
    "    def fn_segregate_news_highlights(file_path, encoding = 'cp1252'):\n",
    "\n",
    "        listO_news, listO_highlights = [], []\n",
    "        highlights = False\n",
    "\n",
    "        with open(file_path, encoding = encoding, errors = 'replace') as f:\n",
    "\n",
    "                for line in f:\n",
    "                    if highlights == True:\n",
    "                        if '@highlight' not in line:\n",
    "                            listO_highlights.append(line)\n",
    "                        continue\n",
    "                    if '@highlight' in line:\n",
    "                        highlights = True\n",
    "                    else:\n",
    "                        listO_news.append(line)\n",
    "\n",
    "        return listO_news, listO_highlights\n",
    "    \n",
    "    \n",
    "\n",
    "    listO_news, listO_highlights = fn_segregate_news_highlights(file_path)    \n",
    "    \n",
    "    listO_news = fn_simplify_txt(listO_news)\n",
    "    listO_highlights = fn_simplify_txt(listO_highlights) \n",
    "    \n",
    "    news = fn_consolidate_txt(listO_news)\n",
    "    highlights = fn_consolidate_txt(listO_highlights)\n",
    "    \n",
    "    return news, highlights\n",
    "\n",
    "\n",
    "def fn_parse_folder(folder_path):\n",
    "    import glob, re\n",
    "    from  progressbar import ProgressBar    \n",
    "    \n",
    "    listO_files = []\n",
    "    for file in glob.glob(folder_path + '*.story'):\n",
    "        listO_files.append(file)\n",
    "\n",
    "    pattern = re.compile(r\"\\\\\")\n",
    "    pattern.sub(\"/\", file)\n",
    "    listO_files = [pattern.sub(\"/\", file) for file in listO_files]\n",
    "    pattern = re.compile(r\"\\\\\")\n",
    "    pattern.sub(\"/\", file)\n",
    "    listO_files = [pattern.sub(\"/\", file) for file in listO_files]\n",
    "    \n",
    "    pbar = ProgressBar(max_value=len(listO_files))\n",
    "    dictO_news, dictO_highlights = {}, {}\n",
    "    for idx, path in pbar(enumerate(listO_files)):\n",
    "\n",
    "        news, highlights = fn_preprocess_file(path)\n",
    "        dictO_news[idx], dictO_highlights[idx] = news, highlights\n",
    "        pbar.update(idx)\n",
    "        \n",
    "    return dictO_news, dictO_highlights"
   ]
  },
  {
   "cell_type": "code",
   "execution_count": 16,
   "id": "apart-photography",
   "metadata": {},
   "outputs": [
    {
     "name": "stderr",
     "output_type": "stream",
     "text": [
      "100% (92579 of 92579) |##################| Elapsed Time: 0:02:54 Time:  0:02:54\n"
     ]
    }
   ],
   "source": [
    "folder_path = 'C:/Users/wocsa/Documents/Python_Scripts/CNN_NEWS_PROJECT/stories/'\n",
    "\n",
    "dictO_news, dictO_highlights = fn_parse_folder(folder_path)"
   ]
  },
  {
   "cell_type": "code",
   "execution_count": 18,
   "id": "latest-instrumentation",
   "metadata": {},
   "outputs": [
    {
     "data": {
      "text/plain": [
       "(92579, 92579)"
      ]
     },
     "execution_count": 18,
     "metadata": {},
     "output_type": "execute_result"
    }
   ],
   "source": [
    "len(dictO_news), len(dictO_highlights)"
   ]
  },
  {
   "cell_type": "code",
   "execution_count": null,
   "id": "passing-modern",
   "metadata": {},
   "outputs": [],
   "source": []
  },
  {
   "cell_type": "code",
   "execution_count": 19,
   "id": "opposite-julian",
   "metadata": {},
   "outputs": [
    {
     "data": {
      "text/plain": [
       "'cnn criminals who file fraudulent tax returns by stealing people s identities could rake in an estimated 26 billion over the next five years because the irs cannot keep up with the amount of the fraud treasury inspector general j russell george said tuesday our analysis found that although the irs detects and prevents a large number of fraudulent refunds based on false income documents there is much fraud that it does not detect said george s prepared testimony before a joint hearing of the house ways and means subcommittees on oversight and social security george s report is the first detailed analysis of the tax refund fraud problem which could affect any legitimate taxpayer his projection of 26 billion is larger than any other estimate of identity theft tax fraud in a statement issued following george s testimony the irs said it believes that the five year estimate is far too high the estimate was based on 2010 figures which took place before the irs instituted major changes with the way it handles identity theft cases the irs statement read our expanded screening on issues such as w 2 matching schedule c information interest income and social security income have had a major impact on our ability to reduce identity theft fraud those efforts according to the irs have lead to stopping more refund fraud than ever before and are not reflected in the five year projection by the treasury inspector general last year according to the treasury inspector general s office the irs reported that of the 2 2 million tax returns it found to be fraudulent about 940 000 returns totaling 6 5 billion were related to identity theft in its investigation george said auditors found another 1 5 million undetected tax returns with more than 5 2 billion in fraud the primary characteristic of these cases is that the identity thief reports false income and withholding to generate a fraudulent tax return george said without the falsely reported income many of the deductions and or credits used to inflate the fraudulent tax refund could not be claimed on the tax return the individuals whose identities were stolen may not even be aware that their identities were used to file a fraudulent tax return making the problem worse george said the irs is hampered by limited resources even with improved identification of these returns the next step of verifying whether the returns are fraudulent will require resources he said the irs has faced budget cuts a hiring freeze and staffing reductions during the same time it has encountered a significant surge in identity theft refund fraud without the necessary resources it is unlikely that the irs will be able to work the entire inventory of potentially fraudulent returns it identifies the irs will only select those tax returns that it can verify based on its resources the scope of the problem is illustrated by what george said his auditors found for tax year 2010 in which 48 357 social security numbers were used multiple times as a primary taxpayer identification number when the identity thief files the fraudulent tax return the irs does not yet know that the individual s identity will be used more than once george said as a result the tax return is processed and the fraudulent refund is issued these instances result in the greatest burden to the legitimate taxpayer as of last month the irs reported that it had stopped the issuance of 1 3 billion in potentially fraudulent tax returns the irs says it determined these returns were potentially fraudulent through a sampling of returns and it does not believe any legitimate returns were included george said more should be done to ensure that fraudulent tax returns are not deposited into bank accounts in addition thieves commonly get the refunds put on debit cards direct deposits should not be made to debit cards issued by financial institutions and debit card administration companies that do not take sufficient steps to authenticate individuals identities george said to make matters worse the irs is not effectively helping the victims of identity theft george said adding that it can take more than a year to resolve these cases the irs acknowledges that it does not know the exact number of identity theft incidents or the number of taxpayers affected by identity theft george said it also has not been able to quantify the amount of improper payments resulting from identity theft in an investigation into tax refund fraud cnn reported in march that criminals have purchased luxury cars jewelry and plastic surgery with the money first thieves obtain social security numbers and other personal information from insiders at hospitals doctor s offices car dealerships or anywhere the information is stored then they file an online tax return using the real taxpayer s name and a fictitious income in most cases the criminals buy a debit card so the irs can issue the refund on that card although some thieves have also gotten their returns on actual treasury checks the thieves know that the irs does not verify the employer w 2s sent with the return until after the refund is issued the irs maintains it has certain filters in place at the start of the tax filing season to prevent and detect identity theft and fraud and it says it has recently trained additional employees across the country to deal with the problem it has also issued special personal identification numbers or pins to identity theft victims when they are filing future returns but in testimony before congress last year national taxpayer advocate nina olson said those filters inevitably block large numbers of proper refund claims since there is no easy way to distinguish proper claims from improper ones in testimony prepared for tuesday s hearing deputy irs commissioner steven miller said the agency cannot stop all identity theft however we have improved and we are committed to continuing to improve our programs we can and will continue to work to prevent the issuance of fraudulent refunds and we can and will continue to work with innocent taxpayers to clear their accounts and or get them money faster in a courteous and professional manner at the same time miller said there is a delicate balance in the need to make payments in a timely manner with the need to ensure that claims are proper and taxpayer rights are protected in the past four years he said the irs has identified more than 490 000 taxpayers who are the victims of identity theft various new identity theft filters are in place to improve our ability to spot false returns before they are processed and before a refund is issued miller said the irs has issued special identification numbers to taxpayers whose identities have been stolen and clamped down on abuses in filing returns under deceased taxpayers identities and prisoners the agency also started a pilot program in april to help local law enforcement in obtaining tax return information related to ongoing criminal investigations i cannot tell you that we will beat this problem in one year miller said i can tell you that we have committed our talents and resources to prevent the issuance of fraudulent returns and have developed processes to minimize the pain felt by those who have been victimized '"
      ]
     },
     "execution_count": 19,
     "metadata": {},
     "output_type": "execute_result"
    }
   ],
   "source": [
    "dictO_news[22]"
   ]
  },
  {
   "cell_type": "code",
   "execution_count": 20,
   "id": "atomic-hunter",
   "metadata": {},
   "outputs": [
    {
     "data": {
      "text/plain": [
       "'the treasury s estimate is the first detailed analysis of the ongoing problem with budget cuts the irs cannot deal with the fraud according to inspector general irs says it stopped the issuance of 1 3 billion in potentially fraudulent tax returns '"
      ]
     },
     "execution_count": 20,
     "metadata": {},
     "output_type": "execute_result"
    }
   ],
   "source": [
    "dictO_highlights[22]"
   ]
  },
  {
   "cell_type": "code",
   "execution_count": null,
   "id": "adjusted-housing",
   "metadata": {},
   "outputs": [],
   "source": []
  },
  {
   "cell_type": "code",
   "execution_count": null,
   "id": "sublime-cathedral",
   "metadata": {},
   "outputs": [],
   "source": []
  },
  {
   "cell_type": "code",
   "execution_count": null,
   "id": "excited-concord",
   "metadata": {},
   "outputs": [],
   "source": []
  },
  {
   "cell_type": "code",
   "execution_count": null,
   "id": "funded-cornell",
   "metadata": {},
   "outputs": [],
   "source": []
  },
  {
   "cell_type": "code",
   "execution_count": null,
   "id": "sharp-groove",
   "metadata": {},
   "outputs": [],
   "source": []
  },
  {
   "cell_type": "code",
   "execution_count": null,
   "id": "elect-divorce",
   "metadata": {},
   "outputs": [],
   "source": []
  },
  {
   "cell_type": "code",
   "execution_count": null,
   "id": "fixed-nebraska",
   "metadata": {},
   "outputs": [],
   "source": []
  },
  {
   "cell_type": "code",
   "execution_count": null,
   "id": "marked-hawaii",
   "metadata": {},
   "outputs": [],
   "source": []
  },
  {
   "cell_type": "code",
   "execution_count": null,
   "id": "institutional-restaurant",
   "metadata": {},
   "outputs": [],
   "source": []
  },
  {
   "cell_type": "code",
   "execution_count": null,
   "id": "superior-paradise",
   "metadata": {},
   "outputs": [],
   "source": []
  },
  {
   "cell_type": "code",
   "execution_count": null,
   "id": "generic-monte",
   "metadata": {},
   "outputs": [],
   "source": []
  },
  {
   "cell_type": "code",
   "execution_count": null,
   "id": "aboriginal-caribbean",
   "metadata": {},
   "outputs": [],
   "source": []
  },
  {
   "cell_type": "code",
   "execution_count": 104,
   "id": "common-scale",
   "metadata": {},
   "outputs": [],
   "source": [
    "\n"
   ]
  },
  {
   "cell_type": "code",
   "execution_count": null,
   "id": "sustainable-provision",
   "metadata": {},
   "outputs": [],
   "source": []
  }
 ],
 "metadata": {
  "kernelspec": {
   "display_name": "Python 3",
   "language": "python",
   "name": "python3"
  },
  "language_info": {
   "codemirror_mode": {
    "name": "ipython",
    "version": 3
   },
   "file_extension": ".py",
   "mimetype": "text/x-python",
   "name": "python",
   "nbconvert_exporter": "python",
   "pygments_lexer": "ipython3",
   "version": "3.8.3"
  }
 },
 "nbformat": 4,
 "nbformat_minor": 5
}

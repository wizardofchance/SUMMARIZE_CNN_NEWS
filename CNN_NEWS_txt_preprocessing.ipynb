{
 "cells": [
  {
   "cell_type": "code",
   "execution_count": 3,
   "id": "dying-scene",
   "metadata": {},
   "outputs": [],
   "source": [
    "def fn_preprocess_file(file_path):\n",
    "\n",
    "    def fn_process_text(text):\n",
    "        import re\n",
    "\n",
    "        text = re.sub('[^a-zA-Z0-9\\n]', ' ', text) #--- Replace every special char with space\n",
    "        text = re.sub('\\s+', ' ', text).strip()  #----- Replace excess whitespaces\n",
    "\n",
    "        return text\n",
    "\n",
    "\n",
    "    def fn_simplify_txt(listO_sentences):\n",
    "    \n",
    "        l = []\n",
    "\n",
    "        for line in listO_sentences:\n",
    "            line = fn_process_text(line) \n",
    "            if len(line) > 1:\n",
    "                l.append(line + '. ')\n",
    "\n",
    "        return l\n",
    "    \n",
    "    \n",
    "    def fn_consolidate_txt(listO_sentences):\n",
    "\n",
    "        s = ''\n",
    "        for line in listO_sentences:\n",
    "            s += line\n",
    "        return s\n",
    "    \n",
    "\n",
    "    def fn_segregate_news_highlights(file_path, encoding = 'cp1252'):\n",
    "\n",
    "        listO_news, listO_highlights = [], []\n",
    "        highlights = False\n",
    "\n",
    "        with open(file_path, encoding = encoding, errors = 'replace') as f:\n",
    "\n",
    "                for line in f:\n",
    "                    if highlights == True:\n",
    "                        if '@highlight' not in line:\n",
    "                            listO_highlights.append(line)\n",
    "                        continue\n",
    "                    if '@highlight' in line:\n",
    "                        highlights = True\n",
    "                    else:\n",
    "                        listO_news.append(line)\n",
    "\n",
    "        return listO_news, listO_highlights\n",
    "    \n",
    "    \n",
    "\n",
    "    listO_news, listO_highlights = fn_segregate_news_highlights(file_path)    \n",
    "    \n",
    "    listO_news = fn_simplify_txt(listO_news)\n",
    "    listO_highlights = fn_simplify_txt(listO_highlights) \n",
    "    \n",
    "    news = fn_consolidate_txt(listO_news)\n",
    "    highlights = fn_consolidate_txt(listO_highlights)\n",
    "    \n",
    "    return news, highlights\n",
    "\n",
    "\n",
    "def fn_parse_folder(folder_path):\n",
    "    import glob, re\n",
    "    from  progressbar import ProgressBar    \n",
    "    \n",
    "    listO_files = []\n",
    "    for file in glob.glob(folder_path + '*.story'):\n",
    "        listO_files.append(file)\n",
    "\n",
    "    pattern = re.compile(r\"\\\\\")\n",
    "    pattern.sub(\"/\", file)\n",
    "    listO_files = [pattern.sub(\"/\", file) for file in listO_files]\n",
    "    pattern = re.compile(r\"\\\\\")\n",
    "    pattern.sub(\"/\", file)\n",
    "    listO_files = [pattern.sub(\"/\", file) for file in listO_files]\n",
    "    \n",
    "    pbar = ProgressBar(max_value=len(listO_files))\n",
    "    dictO_news, dictO_highlights = {}, {}\n",
    "    for idx, path in pbar(enumerate(listO_files)):\n",
    "\n",
    "        news, highlights = fn_preprocess_file(path)\n",
    "        dictO_news[idx], dictO_highlights[idx] = news, highlights\n",
    "        pbar.update(idx)\n",
    "        \n",
    "    return dictO_news, dictO_highlights"
   ]
  },
  {
   "cell_type": "code",
   "execution_count": 5,
   "id": "literary-argentina",
   "metadata": {},
   "outputs": [
    {
     "name": "stderr",
     "output_type": "stream",
     "text": [
      "100% (92579 of 92579) |##################| Elapsed Time: 0:03:41 Time:  0:03:41\n"
     ]
    }
   ],
   "source": [
    "folder_path = 'C:/Users/wocsa/Documents/Python_Scripts/CNN_NEWS_PROJECT/stories/'\n",
    "\n",
    "dictO_news, dictO_highlights = fn_parse_folder(folder_path)"
   ]
  },
  {
   "cell_type": "code",
   "execution_count": 6,
   "id": "duplicate-advertiser",
   "metadata": {},
   "outputs": [
    {
     "data": {
      "text/plain": [
       "(92579, 92579)"
      ]
     },
     "execution_count": 6,
     "metadata": {},
     "output_type": "execute_result"
    }
   ],
   "source": [
    "len(dictO_news), len(dictO_highlights)"
   ]
  },
  {
   "cell_type": "code",
   "execution_count": null,
   "id": "constitutional-mouth",
   "metadata": {},
   "outputs": [],
   "source": []
  },
  {
   "cell_type": "code",
   "execution_count": 7,
   "id": "killing-works",
   "metadata": {},
   "outputs": [
    {
     "data": {
      "text/plain": [
       "'CNN Criminals who file fraudulent tax returns by stealing people s identities could rake in an estimated 26 billion over the next five years because the IRS cannot keep up with the amount of the fraud Treasury Inspector General J Russell George said Tuesday. Our analysis found that although the IRS detects and prevents a large number of fraudulent refunds based on false income documents there is much fraud that it does not detect said George s prepared testimony before a joint hearing of the House Ways and Means Subcommittees on Oversight and Social Security. George s report is the first detailed analysis of the tax refund fraud problem which could affect any legitimate taxpayer His projection of 26 billion is larger than any other estimate of identity theft tax fraud. In a statement issued following George s testimony the IRS said it believes that the five year estimate is far too high. The estimate was based on 2010 figures which took place before the IRS instituted major changes with the way it handles identity theft cases the IRS statement read Our expanded screening on issues such as W 2 matching Schedule C information interest income and Social Security income have had a major impact on our ability to reduce identity theft fraud. Those efforts according to the IRS have lead to stopping more refund fraud than ever before and are not reflected in the five year projection by the Treasury inspector general. Last year according to the Treasury Inspector General s Office the IRS reported that of the 2 2 million tax returns it found to be fraudulent about 940 000 returns totaling 6 5 billion were related to identity theft In its investigation George said auditors found another 1 5 million undetected tax returns with more than 5 2 billion in fraud. The primary characteristic of these cases is that the identity thief reports false income and withholding to generate a fraudulent tax return George said Without the falsely reported income many of the deductions and or credits used to inflate the fraudulent tax refund could not be claimed on the tax return The individuals whose identities were stolen may not even be aware that their identities were used to file a fraudulent tax return. Making the problem worse George said the IRS is hampered by limited resources. Even with improved identification of these returns the next step of verifying whether the returns are fraudulent will require resources he said The IRS has faced budget cuts a hiring freeze and staffing reductions during the same time it has encountered a significant surge in identity theft refund fraud Without the necessary resources it is unlikely that the IRS will be able to work the entire inventory of potentially fraudulent returns it identifies The IRS will only select those tax returns that it can verify based on its resources. The scope of the problem is illustrated by what George said his auditors found for tax year 2010 in which 48 357 Social Security numbers were used multiple times as a primary taxpayer identification number. When the identity thief files the fraudulent tax return the IRS does not yet know that the individual s identity will be used more than once George said As a result the tax return is processed and the fraudulent refund is issued These instances result in the greatest burden to the legitimate taxpayer. As of last month the IRS reported that it had stopped the issuance of 1 3 billion in potentially fraudulent tax returns The IRS says it determined these returns were potentially fraudulent through a sampling of returns and it does not believe any legitimate returns were included. George said more should be done to ensure that fraudulent tax returns are not deposited into bank accounts In addition thieves commonly get the refunds put on debit cards. Direct deposits should not be made to debit cards issued by financial institutions and debit card administration companies that do not take sufficient steps to authenticate individuals identities George said. To make matters worse the IRS is not effectively helping the victims of identity theft George said adding that it can take more than a year to resolve these cases. The IRS acknowledges that it does not know the exact number of identity theft incidents or the number of taxpayers affected by identity theft George said It also has not been able to quantify the amount of improper payments resulting from identity theft. In an investigation into tax refund fraud CNN reported in March that criminals have purchased luxury cars jewelry and plastic surgery with the money. First thieves obtain Social Security numbers and other personal information from insiders at hospitals doctor s offices car dealerships or anywhere the information is stored Then they file an online tax return using the real taxpayer s name and a fictitious income In most cases the criminals buy a debit card so the IRS can issue the refund on that card although some thieves have also gotten their returns on actual Treasury checks. The thieves know that the IRS does not verify the employer W 2s sent with the return until after the refund is issued. The IRS maintains it has certain filters in place at the start of the tax filing season to prevent and detect identity theft and fraud and it says it has recently trained additional employees across the country to deal with the problem It has also issued special personal identification numbers or PINs to identity theft victims when they are filing future returns. But in testimony before Congress last year National Taxpayer Advocate Nina Olson said those filters inevitably block large numbers of proper refund claims since there is no easy way to distinguish proper claims from improper ones. In testimony prepared for Tuesday s hearing Deputy IRS Commissioner Steven Miller said the agency cannot stop all identity theft. However we have improved and we are committed to continuing to improve our programs We can and will continue to work to prevent the issuance of fraudulent refunds and we can and will continue to work with innocent taxpayers to clear their accounts and or get them money faster in a courteous and professional manner. At the same time Miller said there is a delicate balance in the need to make payments in a timely manner with the need to ensure that claims are proper and taxpayer rights are protected. In the past four years he said the IRS has identified more than 490 000 taxpayers who are the victims of identity theft. Various new identity theft filters are in place to improve our ability to spot false returns before they are processed and before a refund is issued Miller said. The IRS has issued special identification numbers to taxpayers whose identities have been stolen and clamped down on abuses in filing returns under deceased taxpayers identities and prisoners The agency also started a pilot program in April to help local law enforcement in obtaining tax return information related to ongoing criminal investigations. I cannot tell you that we will beat this problem in one year Miller said I can tell you that we have committed our talents and resources to prevent the issuance of fraudulent returns and have developed processes to minimize the pain felt by those who have been victimized. '"
      ]
     },
     "execution_count": 7,
     "metadata": {},
     "output_type": "execute_result"
    }
   ],
   "source": [
    "dictO_news[22]"
   ]
  },
  {
   "cell_type": "code",
   "execution_count": 8,
   "id": "cross-registration",
   "metadata": {},
   "outputs": [
    {
     "data": {
      "text/plain": [
       "'The Treasury s estimate is the first detailed analysis of the ongoing problem. With budget cuts the IRS cannot deal with the fraud according to inspector general. IRS says it stopped the issuance of 1 3 billion in potentially fraudulent tax returns. '"
      ]
     },
     "execution_count": 8,
     "metadata": {},
     "output_type": "execute_result"
    }
   ],
   "source": [
    "dictO_highlights[22]"
   ]
  },
  {
   "cell_type": "code",
   "execution_count": null,
   "id": "rural-contract",
   "metadata": {},
   "outputs": [],
   "source": []
  },
  {
   "cell_type": "code",
   "execution_count": null,
   "id": "saved-exposure",
   "metadata": {},
   "outputs": [],
   "source": []
  },
  {
   "cell_type": "code",
   "execution_count": null,
   "id": "statutory-fountain",
   "metadata": {},
   "outputs": [],
   "source": []
  },
  {
   "cell_type": "code",
   "execution_count": null,
   "id": "regular-vacuum",
   "metadata": {},
   "outputs": [],
   "source": []
  },
  {
   "cell_type": "code",
   "execution_count": null,
   "id": "built-matthew",
   "metadata": {},
   "outputs": [],
   "source": []
  },
  {
   "cell_type": "code",
   "execution_count": null,
   "id": "passive-insulation",
   "metadata": {},
   "outputs": [],
   "source": []
  },
  {
   "cell_type": "code",
   "execution_count": null,
   "id": "connected-effects",
   "metadata": {},
   "outputs": [],
   "source": []
  },
  {
   "cell_type": "code",
   "execution_count": null,
   "id": "sticky-analysis",
   "metadata": {},
   "outputs": [],
   "source": []
  },
  {
   "cell_type": "code",
   "execution_count": null,
   "id": "defensive-heather",
   "metadata": {},
   "outputs": [],
   "source": []
  },
  {
   "cell_type": "code",
   "execution_count": null,
   "id": "statutory-northwest",
   "metadata": {},
   "outputs": [],
   "source": []
  },
  {
   "cell_type": "code",
   "execution_count": null,
   "id": "appointed-consideration",
   "metadata": {},
   "outputs": [],
   "source": []
  },
  {
   "cell_type": "code",
   "execution_count": 9,
   "id": "otherwise-mandate",
   "metadata": {},
   "outputs": [],
   "source": [
    "file_path = 'hehe.txt'\n",
    "\n",
    "news, highlights = fn_preprocess_file(file_path)"
   ]
  },
  {
   "cell_type": "code",
   "execution_count": 10,
   "id": "federal-firmware",
   "metadata": {},
   "outputs": [
    {
     "data": {
      "text/plain": [
       "'CNN For the second time during his papacy Pope Francis has announced a new group of bishops and archbishops set to become cardinals and they come from all over the world. Pope Francis said Sunday that he would hold a meeting of cardinals on February 14 during which I will name 15 new Cardinals who coming from 13 countries from every continent manifest the indissoluble links between the Church of Rome and the particular Churches present in the world according to Vatican Radio. New cardinals are always important because they set the tone in the church and also elect the next pope CNN Senior Vatican Analyst John L Allen said They are sometimes referred to as the princes of the Catholic Church. The new cardinals come from countries such as Ethiopia New Zealand and Myanmar. This is a pope who very much wants to reach out to people on the margins and you clearly see that in this set Allen said You re talking about cardinals from typically overlooked places like Cape Verde the Pacific island of Tonga Panama Thailand Uruguay. But for the second time since Francis election no Americans made the list. Francis pattern is very clear He wants to go to the geographical peripheries rather than places that are already top heavy with cardinals Allen said. Christopher Bellitto a professor of church history at Kean University in New Jersey noted that Francis announced his new slate of cardinals on the Catholic Feast of the Epiphany which commemorates the visit of the Magi to Jesus birthplace in Bethlehem. On feast of three wise men from far away the Pope s choices for cardinal say that every local church deserves a place at the big table. In other words Francis wants a more decentralized church and wants to hear reform ideas from small communities that sit far from Catholicism s power centers Bellitto said. That doesn t mean Francis is the first pontiff to appoint cardinals from the developing world though Beginning in the 1920s an increasing number of Latin American churchmen were named cardinals and in the 1960s St John XXIII whom Francis canonized last year appointed the first cardinals from Japan the Philippines and Africa. In addition to the 15 new cardinals Francis named on Sunday five retired archbishops and bishops will also be honored as cardinals. Last year Pope Francis appointed 19 new cardinals including bishops from Haiti and Burkina Faso. CNN s Daniel Burke and Christabelle Fombu contributed to this report. '"
      ]
     },
     "execution_count": 10,
     "metadata": {},
     "output_type": "execute_result"
    }
   ],
   "source": [
    "news"
   ]
  },
  {
   "cell_type": "code",
   "execution_count": 4,
   "id": "fiscal-element",
   "metadata": {},
   "outputs": [
    {
     "data": {
      "text/plain": [
       "'The 15 new cardinals will be installed on February 14. They come from countries such as Myanmar and Tonga. No Americans made the list this time or the previous time in Francis papacy. '"
      ]
     },
     "execution_count": 4,
     "metadata": {},
     "output_type": "execute_result"
    }
   ],
   "source": [
    "highlights"
   ]
  },
  {
   "cell_type": "code",
   "execution_count": null,
   "id": "clean-medicine",
   "metadata": {},
   "outputs": [],
   "source": []
  },
  {
   "cell_type": "code",
   "execution_count": 104,
   "id": "wireless-cambridge",
   "metadata": {},
   "outputs": [],
   "source": [
    "\n"
   ]
  },
  {
   "cell_type": "code",
   "execution_count": 83,
   "id": "changing-yeast",
   "metadata": {},
   "outputs": [
    {
     "data": {
      "text/plain": [
       "['C:/Users/wocsa/Documents/Python_Scripts/CNN_NEWS_PROJECT/trial/000c835555db62e319854d9f8912061cdca1893e.story',\n",
       " 'C:/Users/wocsa/Documents/Python_Scripts/CNN_NEWS_PROJECT/trial/000ca3fc9d877f8d4bb2ebd1d6858c69be571fd8.story',\n",
       " 'C:/Users/wocsa/Documents/Python_Scripts/CNN_NEWS_PROJECT/trial/000cd1ee0098c4d510a03ddc97d11764448ebac2.story',\n",
       " 'C:/Users/wocsa/Documents/Python_Scripts/CNN_NEWS_PROJECT/trial/000e009f6b1d954d827c9a550f3f24a5474ee82b.story',\n",
       " 'C:/Users/wocsa/Documents/Python_Scripts/CNN_NEWS_PROJECT/trial/00a2aef1e18d125960da51e167a3d22ed8416c09.story',\n",
       " 'C:/Users/wocsa/Documents/Python_Scripts/CNN_NEWS_PROJECT/trial/00a340f3a884fcbdad7c0399782d9ca9d2d68ef7.story',\n",
       " 'C:/Users/wocsa/Documents/Python_Scripts/CNN_NEWS_PROJECT/trial/00a39c134080b6f215a81c15d46c3ac7cc7bdcf3.story',\n",
       " 'C:/Users/wocsa/Documents/Python_Scripts/CNN_NEWS_PROJECT/trial/00a51d5454f2ef7dbf4c53471223a27fb9c20681.story',\n",
       " 'C:/Users/wocsa/Documents/Python_Scripts/CNN_NEWS_PROJECT/trial/00a57bef588a7e7efd0438fba62f07356c59b036.story',\n",
       " 'C:/Users/wocsa/Documents/Python_Scripts/CNN_NEWS_PROJECT/trial/00a6c0823ba92e5a055d90133e8b66fa9028c2d7.story',\n",
       " 'C:/Users/wocsa/Documents/Python_Scripts/CNN_NEWS_PROJECT/trial/00a7132b9c9a646852ac4a606acb71e3a6acb8c6.story',\n",
       " 'C:/Users/wocsa/Documents/Python_Scripts/CNN_NEWS_PROJECT/trial/00a79ca59be700e845bf9e90bf08c5106b4a72bb.story',\n",
       " 'C:/Users/wocsa/Documents/Python_Scripts/CNN_NEWS_PROJECT/trial/00a7e6767322697aa9236e2135aecc9785c6b410.story',\n",
       " 'C:/Users/wocsa/Documents/Python_Scripts/CNN_NEWS_PROJECT/trial/00a9a975bde07882d77b6fc4382589791b92ef00.story']"
      ]
     },
     "execution_count": 83,
     "metadata": {},
     "output_type": "execute_result"
    }
   ],
   "source": [
    "folder_path = 'C:/Users/wocsa/Documents/Python_Scripts/CNN_NEWS_PROJECT/trial/'\n",
    "listO_files = []\n",
    "for file in glob.glob(folder_path + '*.story'):\n",
    "    listO_files.append(file)\n",
    "                      \n",
    "pattern = re.compile(r\"\\\\\")\n",
    "pattern.sub(\"/\", file)\n",
    "listO_files = [pattern.sub(\"/\", file) for file in listO_files]\n",
    "listO_files                    "
   ]
  },
  {
   "cell_type": "code",
   "execution_count": null,
   "id": "irish-cinema",
   "metadata": {},
   "outputs": [],
   "source": []
  },
  {
   "cell_type": "code",
   "execution_count": 97,
   "id": "renewable-flood",
   "metadata": {},
   "outputs": [],
   "source": [
    "pattern = re.compile(r\"\\\\\")\n",
    "pattern.sub(\"/\", file)\n",
    "listO_files = [pattern.sub(\"/\", file) for file in listO_files]\n",
    "\n",
    "dictO_news, dictO_highlights = {}, {}\n",
    "for idx, path in enumerate(listO_files):\n",
    "\n",
    "    news, highlights = fn_preprocess_file(path)\n",
    "    dictO_news[idx], dictO_highlights[idx] = news, highlights"
   ]
  },
  {
   "cell_type": "code",
   "execution_count": 98,
   "id": "second-calendar",
   "metadata": {},
   "outputs": [
    {
     "data": {
      "text/plain": [
       "'CNN Kyle White now has two pieces of metal to wear one a bracelet inscribed with the names of his six comrades killed in an ambush in Afghanistan the other a Medal of Honor given to him for his valor that ensured that death toll wasn t higher. Speaking minutes after President Barack Obama gave him the highest military honor White insisted the two emblems are equally significant They both represent his family on that day six years ago the seven others who like him survived as well as those who did not. The former Army sergeant said Tuesday he owes it to these men whom he calls my heroes to live his life well even now that he s left the military and with honor. Though I am still uncomfortable with hearing my name and the word hero in the same sentence I am now ready for the challenge of proudly wearing this piece of blue fabric and carved metal with the same reverence that I wear the bracelet And I vow to live up to the responsibility of doing so White said. Not long before Obama recalled White s bravery and that of his colleagues. The President paid tribute to those who died that fall day in Afghanistan and those who survived They had done everything their country could ask for and more. Kyle members of Chosen Company you did your duty Obama said And now it s time for America to do ours. White himself insisted that the Medal of Honor cannot really be an individual award calling it a testament to the trust we have in each other and our leaders. Still the President said that he deserved to be singled out A high school freshman when the Twin Towers fell on September 11 2001 White joined the Army and was just 20 years old and 21 months into his military service when he faced the ultimate test. He aced it and in doing so represented the best of what Obama called the 9 11 generation which has proven itself to be one of America s greatest. Today the President said to a crowd that included White his parents and many of his former comrades we pay tribute to a soldier who embodies the courage of his generation. Attacked in ambush alley. On Tuesday White dressed in full uniform But on most other weekdays he now wears a suit to his job as an investment analyst at a bank in Charlotte North Carolina a job that he s admitted to Obama with a laugh is less exciting than his previous job in the Army. The Washington state native joined up after high school following the lead of his father a former Army Special Forces member His service had like many other members of the military earned him a ticket to Afghanistan as his platoon s radio telephone operator. He was there on November 9 2007 walking back from a meeting with elders with his unit of 14 and a squad of Afghan army soldiers. They knew not to stop they had to keep moving Obama recalled of the group walking single file with a cliff to their right and a steep rocky slope to their left They were heading into an area known as ambush alley. In an interview prior to the award ceremony White told CNN how the group walked down this little incline and looking into the valley when I hear this single shot Then two shots then the echo then fully automatic gunfire. Taking so much fire members of his patrol were separated as they tried to take cover White was finishing off his first magazine and beginning to load another one when an rocket propelled grenade exploded knocking him unconscious. Moments after he came to an enemy round hit a rock just inches from his head The shrapnel and rock fragments cut his face. Dazed he struggled to take in what was happening He and four others had been separated from the other soldiers who d jumped from a cliff White administered first aid to one wounded soldier using the only cover available a single tree That soldier would survive. It was at that point in the attack that White realized his radio wasn t working. He looked out and saw a member of his patrol about 30 feet away whose wounds were so bad that he could not move White ran toward him braving enemy fire. White was able to drag the wounded man back to the tree. But the man s injuries were too severe and he died. Risking death again and again. White continued to risk himself to help his fellow warriors again running from cover into enemy fire to reach the platoon leader White told the military publication Stars and Stripes that he could see the leader s helmet and assault pack but he couldn t tell whether the leader was alive White had to see he said. White crawled toward the man It was too late He was dead. White figured he would be killed But he would do what he was trained to do He would carry out his duty. It was never a choice he explained to CNN I told myself from the beginning that I was going to be killed you know just the amount of fire I m not gonna make it through this. But he kept focused The soldier White had dragged to the tree earlier was hit again this time in the knee so the White wrapped his belt around the man s leg creating a tourniquet. Then White found a working radio on a deceased comrade and called for artillery and helicopter gunships to help. Finally maybe there could be hope But then a friendly mortar round landed near White. I remember just red hot chunks of metal like the size of my palm just flinging by your head he told Stars and Stripes. Suffering a concussion White managed to hang on waiting for helicopters to evacuate him and others with him that day When help arrived he told his rescuers to put the other wounded aboard first. A soldier changed. Speaking with National Public Radio this week White said the experience from the violence to the wait seemed like forever And it hasn t entirely gone away all these years later. It s something you still think about every day White said I still have these images from that day burned into my head But it s something as time goes on it gets easier. But something inside him changed he said. Even to this day you know I can t say if it was something good or bad he told NPR And that was pretty much the reason why I decided to leave the Army. White first returned home and trained other paratrooopers When it came time for White to re enlist he thought hard about whether doing so felt right He decided against it because he doubted that he could devote his complete heart and mind to it he told NPR. It was unacceptable to him to continue in the service and then perhaps be deployed to Afghanistan Service members deserve a leader who is all in he explained. Obama called him on February 10 to tell him he d be given the Medal of Honor He s the 10th recipient of that award for his actions in Afghanistan and the seventh surviving recipient Four service members received the Medal of Honor all posthumously for actions in the war in Iraq according to the Congressional Medal of Honor Society. In a brief statement to reporters after Tuesday s ceremony White called the Medal of Honor a symbol of the responsibility all soldiers knowingly face when they depart for distant lands in defense of the nation a responsibility that locks us all in the bonds of brotherhood. As such White couldn t help but think about his brothers in arms. Without the team he said there could be no Medal of Honor That is why I wear this medal for my team. Read the transcript of the White House ceremony. 24 minority veterans receive long overdue Medal of Honor. See Kyle White s Army profile. CNN s Barbara Starr contributed to this report. '"
      ]
     },
     "execution_count": 98,
     "metadata": {},
     "output_type": "execute_result"
    }
   ],
   "source": [
    "dictO_news[3]"
   ]
  },
  {
   "cell_type": "code",
   "execution_count": 99,
   "id": "former-broadcasting",
   "metadata": {},
   "outputs": [
    {
     "data": {
      "text/plain": [
       "'NEW Kyle White Without this team there would be no Medal of Honor. NEW He vows to live up to the responsibility of having the top military award. NEW Obama calls White a soldier who embodies the courage of his generation. The Army vet then 20 braved enemy fire to save his wounded comrades in Afghanistan. '"
      ]
     },
     "execution_count": 99,
     "metadata": {},
     "output_type": "execute_result"
    }
   ],
   "source": [
    "dictO_highlights[3]"
   ]
  },
  {
   "cell_type": "code",
   "execution_count": null,
   "id": "legitimate-demand",
   "metadata": {},
   "outputs": [],
   "source": []
  },
  {
   "cell_type": "code",
   "execution_count": 101,
   "id": "assumed-emperor",
   "metadata": {},
   "outputs": [],
   "source": [
    "def fn_parse_folder(folder_path):\n",
    "    import glob, re\n",
    "    \n",
    "    listO_files = []\n",
    "    for file in glob.glob(folder_path + '*.story'):\n",
    "        listO_files.append(file)\n",
    "\n",
    "    pattern = re.compile(r\"\\\\\")\n",
    "    pattern.sub(\"/\", file)\n",
    "    listO_files = [pattern.sub(\"/\", file) for file in listO_files]\n",
    "    pattern = re.compile(r\"\\\\\")\n",
    "    pattern.sub(\"/\", file)\n",
    "    listO_files = [pattern.sub(\"/\", file) for file in listO_files]\n",
    "\n",
    "    dictO_news, dictO_highlights = {}, {}\n",
    "    for idx, path in enumerate(listO_files):\n",
    "\n",
    "        news, highlights = fn_preprocess_file(path)\n",
    "        dictO_news[idx], dictO_highlights[idx] = news, highlights\n",
    "        \n",
    "    return dictO_news, dictO_highlights"
   ]
  },
  {
   "cell_type": "code",
   "execution_count": 102,
   "id": "collaborative-registration",
   "metadata": {},
   "outputs": [],
   "source": [
    "folder_path = 'C:/Users/wocsa/Documents/Python_Scripts/CNN_NEWS_PROJECT/trial/'\n",
    "\n",
    "dictO_news, dictO_highlights = fn_parse_folder(folder_path)"
   ]
  },
  {
   "cell_type": "code",
   "execution_count": 103,
   "id": "subsequent-ethiopia",
   "metadata": {},
   "outputs": [
    {
     "data": {
      "text/plain": [
       "'NEW Kyle White Without this team there would be no Medal of Honor. NEW He vows to live up to the responsibility of having the top military award. NEW Obama calls White a soldier who embodies the courage of his generation. The Army vet then 20 braved enemy fire to save his wounded comrades in Afghanistan. '"
      ]
     },
     "execution_count": 103,
     "metadata": {},
     "output_type": "execute_result"
    }
   ],
   "source": [
    "dictO_highlights[3]"
   ]
  },
  {
   "cell_type": "code",
   "execution_count": null,
   "id": "crucial-beach",
   "metadata": {},
   "outputs": [],
   "source": []
  }
 ],
 "metadata": {
  "kernelspec": {
   "display_name": "Python 3",
   "language": "python",
   "name": "python3"
  },
  "language_info": {
   "codemirror_mode": {
    "name": "ipython",
    "version": 3
   },
   "file_extension": ".py",
   "mimetype": "text/x-python",
   "name": "python",
   "nbconvert_exporter": "python",
   "pygments_lexer": "ipython3",
   "version": "3.8.3"
  }
 },
 "nbformat": 4,
 "nbformat_minor": 5
}
